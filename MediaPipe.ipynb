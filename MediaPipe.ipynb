{
 "cells": [
  {
   "cell_type": "code",
   "execution_count": 1,
   "id": "a0892e2c",
   "metadata": {},
   "outputs": [],
   "source": [
    "# Import necessary libraries\n",
    "\n",
    "# Images\n",
    "import cv2\n",
    "import numpy as np\n",
    "from pathlib import Path\n",
    "import mediapipe as mp\n",
    "import matplotlib.pyplot as plt\n",
    "\n",
    "# PDF's\n",
    "import fitz"
   ]
  },
  {
   "cell_type": "code",
   "execution_count": 2,
   "id": "9fbea57b",
   "metadata": {},
   "outputs": [],
   "source": [
    "# Define paths\n",
    "input_dir = Path(\"photo/images\")\n",
    "pdf_dir = Path(\"pdfs\")\n",
    "output_dir_face = Path(\"face_detected_MediaPipe\")\n",
    "cropped_dir_face = Path(\"cropped_faces_MediaPipe\")\n",
    "pdf_cropped_dir = Path(\"pdf_cropped_faces_MediaPipe\")\n",
    "\n",
    "output_dir_face.mkdir(parents=True, exist_ok=True)\n",
    "cropped_dir_face.mkdir(parents=True, exist_ok=True)\n",
    "pdf_cropped_dir.mkdir(parents=True, exist_ok=True)"
   ]
  },
  {
   "cell_type": "code",
   "execution_count": 3,
   "id": "74af73e6",
   "metadata": {},
   "outputs": [],
   "source": [
    "# Initialize MediaPipe Face Detection\n",
    "mp_face_detection = mp.solutions.face_detection\n",
    "face_detection = mp_face_detection.FaceDetection(model_selection=0, min_detection_confidence=0.7)"
   ]
  },
  {
   "cell_type": "code",
   "execution_count": 4,
   "id": "c6d15ef9",
   "metadata": {},
   "outputs": [],
   "source": [
    "def detect_faces_mediapipe(img, img_name, cropped_dir, annotated_dir):\n",
    "    img_rgb = cv2.cvtColor(img, cv2.COLOR_BGR2RGB)\n",
    "    results = face_detection.process(img_rgb)\n",
    "\n",
    "    face_count = 0\n",
    "    if results.detections:\n",
    "        for detection in results.detections:\n",
    "            bboxC = detection.location_data.relative_bounding_box\n",
    "            h, w, _ = img.shape\n",
    "            x1 = int(bboxC.xmin * w)\n",
    "            y1 = int(bboxC.ymin * h)\n",
    "            x2 = int((bboxC.xmin + bboxC.width) * w)\n",
    "            y2 = int((bboxC.ymin + bboxC.height) * h)\n",
    "\n",
    "            x1, y1 = max(0, x1), max(0, y1)\n",
    "            x2, y2 = min(w, x2), min(h, y2)\n",
    "\n",
    "            face_crop = img[y1:y2, x1:x2]\n",
    "            face_count += 1\n",
    "            face_filename = cropped_dir / f\"{img_name}_face_{face_count}.jpg\"\n",
    "            cv2.imwrite(str(face_filename), face_crop)\n",
    "            print(f\"Saved: {face_filename.name}\")\n",
    "\n",
    "            # Draw rectangle on the face\n",
    "            cv2.rectangle(img, (x1, y1), (x2, y2), (0, 255, 0), 2)\n",
    "\n",
    "    annotated_path = annotated_dir / f\"{img_name}_annotated.jpg\"\n",
    "    cv2.imwrite(str(annotated_path), img)\n",
    "    print(f\"Annotated image saved: {annotated_path.name}\")"
   ]
  },
  {
   "cell_type": "code",
   "execution_count": 5,
   "id": "a7f9611c",
   "metadata": {},
   "outputs": [],
   "source": [
    "def pdf_to_images(pdf_path, dpi=300):\n",
    "    pdf_document = fitz.open(str(pdf_path))\n",
    "    img_paths = []\n",
    "    for page_num in range(len(pdf_document)):\n",
    "        page = pdf_document.load_page(page_num)\n",
    "        zoom = dpi / 72\n",
    "        mat = fitz.Matrix(zoom, zoom)\n",
    "        pix = page.get_pixmap(matrix=mat)\n",
    "        img_array = np.frombuffer(pix.samples, dtype=np.uint8).reshape((pix.height, pix.width, 3))\n",
    "        img_paths.append((img_array, page_num + 1))\n",
    "    return img_paths"
   ]
  },
  {
   "cell_type": "code",
   "execution_count": 6,
   "id": "75f393d6",
   "metadata": {},
   "outputs": [],
   "source": [
    "def process_images(max_images=25):\n",
    "    image_counter = 0\n",
    "    for folder in input_dir.iterdir():\n",
    "        if not folder.is_dir():\n",
    "            continue\n",
    "        for img_path in folder.glob(\"*.jpg\"):\n",
    "            if image_counter >= max_images:\n",
    "                print(f\"Reached the max limit of {max_images} images.\")\n",
    "                return\n",
    "            img = cv2.imread(str(img_path))\n",
    "            detect_faces_mediapipe(img, img_path.stem, cropped_dir_face, output_dir_face)\n",
    "            image_counter += 1"
   ]
  },
  {
   "cell_type": "code",
   "execution_count": 7,
   "id": "e3bcf74e",
   "metadata": {},
   "outputs": [],
   "source": [
    "def process_pdfs():\n",
    "    pdf_files = list(pdf_dir.glob(\"*.pdf\"))\n",
    "    for pdf_file in pdf_files:\n",
    "        print(f\"Processing PDF: {pdf_file.name}\")\n",
    "        try:\n",
    "            pages = pdf_to_images(pdf_file)\n",
    "            for img_array, page_num in pages:\n",
    "                img_name = f\"{pdf_file.stem}_page_{page_num}\"\n",
    "                detect_faces_mediapipe(img_array, img_name, pdf_cropped_dir, output_dir_face)\n",
    "        except Exception as e:\n",
    "            print(f\"Error processing {pdf_file.name}: {str(e)}\")"
   ]
  },
  {
   "cell_type": "code",
   "execution_count": 8,
   "id": "04829cec",
   "metadata": {},
   "outputs": [
    {
     "name": "stdout",
     "output_type": "stream",
     "text": [
      "Annotated image saved: 00_annotated.jpg\n",
      "Annotated image saved: 01_annotated.jpg\n",
      "Annotated image saved: 02_annotated.jpg\n",
      "Annotated image saved: 03_annotated.jpg\n",
      "Annotated image saved: 04_annotated.jpg\n",
      "Annotated image saved: 05_annotated.jpg\n",
      "Annotated image saved: 06_annotated.jpg\n",
      "Annotated image saved: 07_annotated.jpg\n",
      "Annotated image saved: 08_annotated.jpg\n",
      "Annotated image saved: 09_annotated.jpg\n",
      "Annotated image saved: 10_annotated.jpg\n",
      "Annotated image saved: 11_annotated.jpg\n",
      "Annotated image saved: 12_annotated.jpg\n",
      "Annotated image saved: 13_annotated.jpg\n",
      "Annotated image saved: 14_annotated.jpg\n",
      "Annotated image saved: 15_annotated.jpg\n",
      "Annotated image saved: 16_annotated.jpg\n",
      "Annotated image saved: 17_annotated.jpg\n",
      "Annotated image saved: 18_annotated.jpg\n",
      "Annotated image saved: 19_annotated.jpg\n",
      "Annotated image saved: 20_annotated.jpg\n",
      "Annotated image saved: 21_annotated.jpg\n",
      "Annotated image saved: 22_annotated.jpg\n",
      "Annotated image saved: 23_annotated.jpg\n",
      "Annotated image saved: 24_annotated.jpg\n",
      "Reached the max limit of 25 images.\n"
     ]
    }
   ],
   "source": [
    "process_images(max_images=25)"
   ]
  },
  {
   "cell_type": "code",
   "execution_count": 9,
   "id": "acc9a01d",
   "metadata": {},
   "outputs": [
    {
     "name": "stdout",
     "output_type": "stream",
     "text": [
      "Processing PDF: formato_prueba_famoso_1.pdf\n",
      "Annotated image saved: formato_prueba_famoso_1_page_1_annotated.jpg\n",
      "Processing PDF: formato_prueba_famoso_2.pdf\n",
      "Annotated image saved: formato_prueba_famoso_2_page_1_annotated.jpg\n",
      "Processing PDF: formato_prueba_famoso_3.pdf\n",
      "Annotated image saved: formato_prueba_famoso_3_page_1_annotated.jpg\n",
      "Processing PDF: formato_prueba_famoso_diferente_1.pdf\n",
      "Annotated image saved: formato_prueba_famoso_diferente_1_page_1_annotated.jpg\n"
     ]
    }
   ],
   "source": [
    "process_pdfs()"
   ]
  },
  {
   "cell_type": "markdown",
   "id": "7a72d8e9",
   "metadata": {},
   "source": [
    "# MediaPipe"
   ]
  },
  {
   "cell_type": "code",
   "execution_count": 2,
   "id": "44f9ed24",
   "metadata": {},
   "outputs": [],
   "source": [
    "# Import necessary libraries\n",
    "import os\n",
    "import time\n",
    "from pathlib import Path\n",
    "from typing import List, Tuple, Optional\n",
    "\n",
    "# Images\n",
    "import cv2\n",
    "import numpy as np\n",
    "from pathlib import Path\n",
    "import mediapipe as mp\n",
    "import matplotlib.pyplot as plt\n",
    "\n",
    "# PDF's\n",
    "import fitz"
   ]
  },
  {
   "cell_type": "code",
   "execution_count": null,
   "id": "00b803ed",
   "metadata": {},
   "outputs": [],
   "source": [
    "# Face detection using MediaPipe\n",
    "class FaceDetector:\n",
    "    # Configuration\n",
    "    def __init__(self):\n",
    "        self.input_dir = (\"photo/images\")\n",
    "        self.ouput_dir_mediapipe(\"face_detected_MediaPipe\")\n",
    "        self.cropped_dir_face = Path(\"cropped_faces_MediaPipe\")\n",
    "        self.no_face_detected: List[Path] = []\n",
    "\n",
    "        "
   ]
  }
 ],
 "metadata": {
  "kernelspec": {
   "display_name": "Python 3",
   "language": "python",
   "name": "python3"
  },
  "language_info": {
   "codemirror_mode": {
    "name": "ipython",
    "version": 3
   },
   "file_extension": ".py",
   "mimetype": "text/x-python",
   "name": "python",
   "nbconvert_exporter": "python",
   "pygments_lexer": "ipython3",
   "version": "3.12.0"
  }
 },
 "nbformat": 4,
 "nbformat_minor": 5
}
